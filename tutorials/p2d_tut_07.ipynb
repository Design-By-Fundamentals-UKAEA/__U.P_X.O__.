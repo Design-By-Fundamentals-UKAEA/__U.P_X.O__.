{
 "cells": [
  {
   "attachments": {},
   "cell_type": "markdown",
   "metadata": {},
   "source": [
    "### Comparison operations for relative spatial positioning (above, below, left and right)"
   ]
  },
  {
   "attachments": {},
   "cell_type": "markdown",
   "metadata": {},
   "source": [
    "Make a list `ps` of UPXO point2d objects"
   ]
  },
  {
   "cell_type": "code",
   "execution_count": 1,
   "metadata": {},
   "outputs": [],
   "source": [
    "from point2d_04 import point2d\n",
    "p1 = point2d(x=0, y=0)\n",
    "p2 = point2d(x=1, y=1)\n",
    "p3 = point2d(x=1.4, y=1.6)\n",
    "p4 = point2d(x=0, y=1)\n",
    "p5 = point2d(x=-0.5, y=0.5)\n",
    "p6 = point2d(x=-0.5, y=-0.5)\n",
    "ps = [p1, p2, p3, p4, p5, p6]"
   ]
  },
  {
   "attachments": {},
   "cell_type": "markdown",
   "metadata": {},
   "source": [
    "Get truth values for relative positioning checks of all points in the `ps` with respect the current object, whcih in thew present case is p1"
   ]
  },
  {
   "cell_type": "code",
   "execution_count": 2,
   "metadata": {},
   "outputs": [
    {
     "name": "stdout",
     "output_type": "stream",
     "text": [
      "[False, True, True, True, True, False]\n",
      "[False, False, False, False, False, True]\n",
      "[False, False, False, False, True, True]\n",
      "[False, True, True, False, False, False]\n"
     ]
    }
   ],
   "source": [
    "print(p1.above(ps))\n",
    "print(p1.below(ps))\n",
    "print(p1.left(ps))\n",
    "print(p1.right(ps))"
   ]
  },
  {
   "attachments": {},
   "cell_type": "markdown",
   "metadata": {},
   "source": [
    "Make a list `ps` of Shapely Point objects"
   ]
  },
  {
   "cell_type": "code",
   "execution_count": 3,
   "metadata": {},
   "outputs": [],
   "source": [
    "from shapely.geometry import Point\n",
    "sp1 = Point((0,0))\n",
    "sp2 = Point((1,1))\n",
    "sp3 = Point((1.4,1.6))\n",
    "sp4 = Point((0,1))\n",
    "sp5 = Point((-0.5,0.5))\n",
    "sp6 = Point((-0.5,-0.5))\n",
    "sps = [sp1, sp2, sp3, sp4, sp5, sp6]"
   ]
  },
  {
   "attachments": {},
   "cell_type": "markdown",
   "metadata": {},
   "source": [
    "Get truth values for relative positioning checks of all points in the `ps` with respect the current object, whcih in thew present case is p1"
   ]
  },
  {
   "cell_type": "code",
   "execution_count": 4,
   "metadata": {},
   "outputs": [
    {
     "name": "stdout",
     "output_type": "stream",
     "text": [
      "[False, True, True, True, True, False]\n",
      "[False, False, False, False, False, True]\n",
      "[False, False, False, False, True, True]\n",
      "[False, True, True, False, False, False]\n"
     ]
    }
   ],
   "source": [
    "print(p1.above(sps))\n",
    "print(p1.below(sps))\n",
    "print(p1.left(sps))\n",
    "print(p1.right(sps))"
   ]
  }
 ],
 "metadata": {
  "kernelspec": {
   "display_name": "Python 3",
   "language": "python",
   "name": "python3"
  },
  "language_info": {
   "codemirror_mode": {
    "name": "ipython",
    "version": 3
   },
   "file_extension": ".py",
   "mimetype": "text/x-python",
   "name": "python",
   "nbconvert_exporter": "python",
   "pygments_lexer": "ipython3",
   "version": "3.9.13"
  },
  "orig_nbformat": 4,
  "vscode": {
   "interpreter": {
    "hash": "d85cf6249eccc1c127338e9c24e2a020fd6f3de5dad6c76de8f13c039fb970e8"
   }
  }
 },
 "nbformat": 4,
 "nbformat_minor": 2
}
