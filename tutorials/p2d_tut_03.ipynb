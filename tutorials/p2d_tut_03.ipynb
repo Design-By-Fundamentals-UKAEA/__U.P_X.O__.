{
 "cells": [
  {
   "attachments": {},
   "cell_type": "markdown",
   "metadata": {},
   "source": [
    "Lets import point2d and create three point2d instances, p1, p2 and p3"
   ]
  },
  {
   "cell_type": "code",
   "execution_count": 1,
   "metadata": {},
   "outputs": [],
   "source": [
    "from point2d_04 import point2d\n",
    "p1 = point2d(x=0, y=0)\n",
    "p2 = point2d(x=1, y=1)\n",
    "p3 = point2d(x=1.4, y=1.6)\n",
    "p4 = point2d(x=0, y=1)\n",
    "p5 = point2d(x=0.5, y=0.5)"
   ]
  },
  {
   "attachments": {},
   "cell_type": "markdown",
   "metadata": {},
   "source": [
    "Points can be used in arithmetic operations as well.\n",
    "\n",
    "Let's try out multiplication."
   ]
  },
  {
   "cell_type": "code",
   "execution_count": 2,
   "metadata": {},
   "outputs": [
    {
     "name": "stdout",
     "output_type": "stream",
     "text": [
      "upxo.p2d(1.0, 1.0)\n",
      "upxo.p2d(10.0, 10.0)\n",
      "upxo.p2d(1.0, 1.0)\n"
     ]
    }
   ],
   "source": [
    "print(p2)\n",
    "print(p2*10)\n",
    "print(p2)"
   ]
  },
  {
   "attachments": {},
   "cell_type": "markdown",
   "metadata": {},
   "source": [
    "The following restriction is to be noted to be applicable on point2d object. \"Scalar value must be on the right side of the point2d object and not on the left side.\""
   ]
  },
  {
   "attachments": {},
   "cell_type": "markdown",
   "metadata": {},
   "source": [
    "Let us now add three points"
   ]
  },
  {
   "cell_type": "code",
   "execution_count": 3,
   "metadata": {},
   "outputs": [
    {
     "name": "stdout",
     "output_type": "stream",
     "text": [
      "upxo.p2d(15.0, 18.0)\n"
     ]
    }
   ],
   "source": [
    "p7 = p2 + p3*10 + p4\n",
    "print(p7)"
   ]
  },
  {
   "attachments": {},
   "cell_type": "markdown",
   "metadata": {},
   "source": [
    "Let us explore multiplication"
   ]
  },
  {
   "cell_type": "code",
   "execution_count": 4,
   "metadata": {},
   "outputs": [
    {
     "name": "stdout",
     "output_type": "stream",
     "text": [
      "upxo.p2d(2.1, 2.4)\n"
     ]
    }
   ],
   "source": [
    "p8 = p2*p3*p5*3\n",
    "print(p8)"
   ]
  },
  {
   "attachments": {},
   "cell_type": "markdown",
   "metadata": {},
   "source": [
    "Let us now explore division by sclar and other point objects"
   ]
  },
  {
   "cell_type": "code",
   "execution_count": 5,
   "metadata": {},
   "outputs": [
    {
     "name": "stdout",
     "output_type": "stream",
     "text": [
      "upxo.p2d(0.7, 0.8)\n",
      "upxo.p2d(2.8, 3.2)\n"
     ]
    }
   ],
   "source": [
    "print(p3/2)\n",
    "print(p3/p5)"
   ]
  },
  {
   "cell_type": "code",
   "execution_count": 6,
   "metadata": {},
   "outputs": [
    {
     "data": {
      "text/plain": [
       "upxo.p2d(17.1, 20.4)"
      ]
     },
     "execution_count": 6,
     "metadata": {},
     "output_type": "execute_result"
    }
   ],
   "source": [
    "p2 + p3*10 + p4 + p2*p3*p5*3"
   ]
  },
  {
   "attachments": {},
   "cell_type": "markdown",
   "metadata": {},
   "source": [
    "Let's combine artithmetic operations, print them out and finally plot them."
   ]
  },
  {
   "cell_type": "code",
   "execution_count": 7,
   "metadata": {},
   "outputs": [
    {
     "name": "stdout",
     "output_type": "stream",
     "text": [
      "None\n",
      "upxo.p2d(-0.04093567, -0.03921569)\n"
     ]
    },
    {
     "data": {
      "image/png": "[encoded data removed]",
      "text/plain": [
       "<Figure size 80x80 with 1 Axes>"
      ]
     },
     "metadata": {
      "needs_background": "light"
     },
     "output_type": "display_data"
    },
    {
     "name": "stdout",
     "output_type": "stream",
     "text": [
      "upxo.p2d(1.4, 1.6)\n"
     ]
    }
   ],
   "source": [
    "p9 = p3/(p2 + p3*10 + p4 + p2*p3*p5*3)/-2.0\n",
    "print(p9)\n",
    "p10 = p3/(p2 + p3*10 + p4 + p2*p3*p5*3)*-1/2\n",
    "print(p10)\n",
    "p10.plot()\n",
    "print(p3)"
   ]
  },
  {
   "attachments": {},
   "cell_type": "markdown",
   "metadata": {},
   "source": [
    "Note when dividing by a negative number, as in p9, it won't work. Please use the method used in p10 instead, when having to divide by negative number!!"
   ]
  },
  {
   "attachments": {},
   "cell_type": "markdown",
   "metadata": {},
   "source": [
    "x and y coordinates of the point could be multipled and divided by different multipliers and divisors too. See below two examples."
   ]
  },
  {
   "attachments": {},
   "cell_type": "markdown",
   "metadata": {},
   "source": [
    "Example for multiplication:"
   ]
  },
  {
   "cell_type": "code",
   "execution_count": 8,
   "metadata": {},
   "outputs": [
    {
     "name": "stdout",
     "output_type": "stream",
     "text": [
      "upxo.p2d(1.4, 1.6)\n",
      "upxo.p2d(2.8, 3.2)\n",
      "upxo.p2d(1.4, 3.2)\n"
     ]
    }
   ],
   "source": [
    "print(  p3 )\n",
    "print(  p3 * 2  )\n",
    "print(  p3 * [1, 2]  )"
   ]
  },
  {
   "attachments": {},
   "cell_type": "markdown",
   "metadata": {},
   "source": [
    "Example for division:"
   ]
  },
  {
   "cell_type": "code",
   "execution_count": 9,
   "metadata": {},
   "outputs": [
    {
     "name": "stdout",
     "output_type": "stream",
     "text": [
      "upxo.p2d(1.4, 1.6)\n",
      "upxo.p2d(0.7, 0.8)\n",
      "upxo.p2d(1.4, 0.8)\n"
     ]
    }
   ],
   "source": [
    "print(  p3 )\n",
    "print(  p3 / 2  )\n",
    "print(  p3 / [1, 2]  )"
   ]
  }
 ],
 "metadata": {
  "kernelspec": {
   "display_name": "Python 3.9.13 64-bit (microsoft store)",
   "language": "python",
   "name": "python3"
  },
  "language_info": {
   "codemirror_mode": {
    "name": "ipython",
    "version": 3
   },
   "file_extension": ".py",
   "mimetype": "text/x-python",
   "name": "python",
   "nbconvert_exporter": "python",
   "pygments_lexer": "ipython3",
   "version": "3.9.13"
  },
  "orig_nbformat": 4,
  "vscode": {
   "interpreter": {
    "hash": "d85cf6249eccc1c127338e9c24e2a020fd6f3de5dad6c76de8f13c039fb970e8"
   }
  }
 },
 "nbformat": 4,
 "nbformat_minor": 2
}
