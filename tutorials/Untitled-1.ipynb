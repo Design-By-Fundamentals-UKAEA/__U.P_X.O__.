{
 "cells": [
  {
   "attachments": {},
   "cell_type": "markdown",
   "metadata": {},
   "source": [
    "In this tutorial, we will create an N number of point sets, with all points \n",
    "bounded by [0.0, 1.0] on x and y. Each point will be a UPXO point2d object.\n",
    "Coordinates will have a random uniform distributi90onl.\n",
    "\n",
    "We will then create a single reference point at (0, 0).\n",
    "\n",
    "For this point, we will then find its neighbours in each of the \n",
    "point-sets within a certain cut-off-radius specific to each point set.\n",
    "\n",
    "We will calcuolate the following:\n",
    "\n",
    "    1. Neighbouring points for eqach point set\n",
    "    2. Number of neighbopuring points for each point set\n",
    "    3. Indices of neighbours from the parent point dataset\n",
    "    4. Distances of the neighbours from the reference point\n",
    "\n",
    "In most cases, user will not want to querry all the above four results, as\n",
    "some can be calculated using others. However, user can replacve the \n",
    "un-necessary output by a dummy underscore. For example, if in the example\n",
    "below, if the npoints if not needed in the find_neigh_points output, then \n",
    "the listy of outputs coule be \"neigh_points, _, indices, distances\"\n",
    "oinstead of \"neigh_points, npoints, indices, distances\".\n",
    "\n",
    "NOTES: For really biGGG data sets (say around 10,000 points), do issue, a \n",
    "number greater than 1 for argument \"ckdtree_workers\"."
   ]
  },
  {
   "cell_type": "code",
   "execution_count": 33,
   "metadata": {},
   "outputs": [],
   "source": [
    "import numpy as np\n",
    "from point2d_04 import point2d"
   ]
  },
  {
   "cell_type": "markdown",
   "metadata": {},
   "source": []
  },
  {
   "cell_type": "code",
   "execution_count": 34,
   "metadata": {},
   "outputs": [],
   "source": [
    "randd = np.random.uniform"
   ]
  },
  {
   "attachments": {},
   "cell_type": "markdown",
   "metadata": {},
   "source": [
    "Assign the Number of point sets"
   ]
  },
  {
   "cell_type": "code",
   "execution_count": 35,
   "metadata": {},
   "outputs": [],
   "source": [
    "n_pointdatasets = 2"
   ]
  },
  {
   "attachments": {},
   "cell_type": "markdown",
   "metadata": {},
   "source": [
    "Assign the Number of points to create"
   ]
  },
  {
   "cell_type": "code",
   "execution_count": 36,
   "metadata": {},
   "outputs": [],
   "source": [
    "n_points = 10"
   ]
  },
  {
   "attachments": {},
   "cell_type": "markdown",
   "metadata": {},
   "source": [
    "Create the point data-sets"
   ]
  },
  {
   "cell_type": "code",
   "execution_count": 37,
   "metadata": {},
   "outputs": [],
   "source": [
    "points = [[point2d(x=randd(), y=randd()) for _ in range(n_points)] for _ in range(n_pointdatasets)]"
   ]
  },
  {
   "cell_type": "markdown",
   "metadata": {},
   "source": []
  },
  {
   "cell_type": "code",
   "execution_count": 38,
   "metadata": {},
   "outputs": [
    {
     "name": "stdout",
     "output_type": "stream",
     "text": [
      "[upxo.p2d(0.17999, 0.57058), upxo.p2d(0.58417, 0.04463), upxo.p2d(0.25911, 0.28699), upxo.p2d(0.27142, 0.50993), upxo.p2d(0.74007, 0.14018), upxo.p2d(0.13057, 0.10216), upxo.p2d(0.38252, 0.97089), upxo.p2d(0.51807, 0.50907), upxo.p2d(0.33106, 0.19028), upxo.p2d(0.9287, 0.96911)]\n",
      "----\n",
      "[upxo.p2d(0.32304, 0.98699), upxo.p2d(0.26127, 0.0909), upxo.p2d(0.10689, 0.46387), upxo.p2d(0.42642, 0.2003), upxo.p2d(0.39199, 0.42119), upxo.p2d(0.57048, 0.37197), upxo.p2d(0.98589, 0.45175), upxo.p2d(0.97224, 0.15366), upxo.p2d(0.33758, 0.81334), upxo.p2d(0.6937, 0.36231)]\n"
     ]
    }
   ],
   "source": [
    "print(points[0])\n",
    "print('----')\n",
    "print(points[1])"
   ]
  },
  {
   "attachments": {},
   "cell_type": "markdown",
   "metadata": {},
   "source": [
    "Assign the cut-off-radii"
   ]
  },
  {
   "cell_type": "code",
   "execution_count": 39,
   "metadata": {},
   "outputs": [],
   "source": [
    "cut_off_radii = [0.5 for _ in range(len(points))]"
   ]
  },
  {
   "attachments": {},
   "cell_type": "markdown",
   "metadata": {},
   "source": [
    "Make the reference point of the UPXO data-set"
   ]
  },
  {
   "cell_type": "code",
   "execution_count": 40,
   "metadata": {},
   "outputs": [],
   "source": [
    "ref_point = point2d(x = 0.0, y = 0.0)"
   ]
  },
  {
   "attachments": {},
   "cell_type": "markdown",
   "metadata": {},
   "source": [
    "Calculate the neighbour details for each point-data-set"
   ]
  },
  {
   "cell_type": "code",
   "execution_count": 43,
   "metadata": {},
   "outputs": [],
   "source": [
    "NP, N, I, D = ref_point.find_neigh_points(method='points', points=points,\n",
    "                                          point_type='upxo',\n",
    "                                          cutoffshape='circle',\n",
    "                                          cut_off_radii=cut_off_radii,\n",
    "                                          ckdtree_workers=1\n",
    "                                          )"
   ]
  },
  {
   "attachments": {},
   "cell_type": "markdown",
   "metadata": {},
   "source": [
    "To accommodate in jupyter notebooks, short variable names \"NP, N, I, D\" are used for \"neigh_points, npoints, indices, distances\". The latter is recommended, as it meets the overall UPXO coding style specification \"descriptive names are better than concise names\""
   ]
  },
  {
   "cell_type": "code",
   "execution_count": 44,
   "metadata": {},
   "outputs": [
    {
     "name": "stdout",
     "output_type": "stream",
     "text": [
      "-----------------------\n",
      "[2, 2, 2]\n",
      "-----------------------\n",
      "[[upxo.p2d(0.25911, 0.28699), upxo.p2d(0.13057, 0.10216), upxo.p2d(0.33106, 0.19028)], [upxo.p2d(0.26127, 0.0909), upxo.p2d(0.10689, 0.46387), upxo.p2d(0.42642, 0.2003)]]\n",
      "-----------------------\n",
      "[3, 3]\n",
      "-----------------------\n",
      "[[2, 5, 8], [1, 2, 3]]\n",
      "-----------------------\n",
      "[[0.3866542249224989, 0.16579240432895587, 0.3818471852578646], [0.27663337782645175, 0.47603025545196503, 0.4711215761477561]]\n"
     ]
    }
   ],
   "source": [
    "neigh_points, npoints, indices, distances = NP, N, I, D\n",
    "print('-----------------------')\n",
    "print([len(neigh_points), len(indices), len(distances)])\n",
    "print('-----------------------')\n",
    "print(neigh_points)\n",
    "print('-----------------------')\n",
    "print(npoints)\n",
    "print('-----------------------')\n",
    "print(indices)\n",
    "print('-----------------------')\n",
    "print(distances)"
   ]
  },
  {
   "cell_type": "markdown",
   "metadata": {},
   "source": []
  }
 ],
 "metadata": {
  "kernelspec": {
   "display_name": "Python 3",
   "language": "python",
   "name": "python3"
  },
  "language_info": {
   "codemirror_mode": {
    "name": "ipython",
    "version": 3
   },
   "file_extension": ".py",
   "mimetype": "text/x-python",
   "name": "python",
   "nbconvert_exporter": "python",
   "pygments_lexer": "ipython3",
   "version": "3.9.13"
  },
  "orig_nbformat": 4,
  "vscode": {
   "interpreter": {
    "hash": "d85cf6249eccc1c127338e9c24e2a020fd6f3de5dad6c76de8f13c039fb970e8"
   }
  }
 },
 "nbformat": 4,
 "nbformat_minor": 2
}
