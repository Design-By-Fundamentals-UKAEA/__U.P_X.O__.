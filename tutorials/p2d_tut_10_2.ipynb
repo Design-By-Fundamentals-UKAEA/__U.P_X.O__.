{
 "cells": [
  {
   "attachments": {},
   "cell_type": "markdown",
   "metadata": {},
   "source": [
    "# Identying neighbouring points from a list of points"
   ]
  },
  {
   "attachments": {},
   "cell_type": "markdown",
   "metadata": {},
   "source": [
    "When dealing with grain structure morphology, it becomes necessary to identify a centain point's neighbouring points. This is a first of a series of tutorials \"p2d_tut_10_X.ipynb\", where X is the tutorial subset number."
   ]
  },
  {
   "attachments": {},
   "cell_type": "markdown",
   "metadata": {},
   "source": [
    "### This tutorial subset considers input points in the form of a list of UPXO point2d objects and uses the scipy's ckdtree data structure. This is recommended for very large point2d datasets."
   ]
  },
  {
   "cell_type": "code",
   "execution_count": 1,
   "metadata": {},
   "outputs": [],
   "source": [
    "import numpy as np\n",
    "from point2d_04 import point2d\n",
    "np.random.seed(0)\n",
    "randd = np.random.uniform"
   ]
  },
  {
   "attachments": {},
   "cell_type": "markdown",
   "metadata": {},
   "source": [
    "Assign the Number of point sets"
   ]
  },
  {
   "cell_type": "code",
   "execution_count": 2,
   "metadata": {},
   "outputs": [],
   "source": [
    "n_pointdatasets = 2"
   ]
  },
  {
   "attachments": {},
   "cell_type": "markdown",
   "metadata": {},
   "source": [
    "Assign the Number of points to create"
   ]
  },
  {
   "cell_type": "code",
   "execution_count": 3,
   "metadata": {},
   "outputs": [],
   "source": [
    "n_points = 10"
   ]
  },
  {
   "attachments": {},
   "cell_type": "markdown",
   "metadata": {},
   "source": [
    "Create the point data-sets"
   ]
  },
  {
   "cell_type": "code",
   "execution_count": 4,
   "metadata": {},
   "outputs": [
    {
     "name": "stdout",
     "output_type": "stream",
     "text": [
      "[[upxo.p2d(0.54881, 0.71519), upxo.p2d(0.60276, 0.54488), upxo.p2d(0.42365, 0.64589), upxo.p2d(0.43759, 0.89177), upxo.p2d(0.96366, 0.38344), upxo.p2d(0.79173, 0.52889), upxo.p2d(0.56804, 0.9256), upxo.p2d(0.07104, 0.08713), upxo.p2d(0.02022, 0.83262), upxo.p2d(0.77816, 0.87001)], [upxo.p2d(0.97862, 0.79916), upxo.p2d(0.46148, 0.78053), upxo.p2d(0.11827, 0.63992), upxo.p2d(0.14335, 0.94467), upxo.p2d(0.52185, 0.41466), upxo.p2d(0.26456, 0.77423), upxo.p2d(0.45615, 0.56843), upxo.p2d(0.01879, 0.61764), upxo.p2d(0.6121, 0.61693), upxo.p2d(0.94375, 0.68182)]]\n"
     ]
    }
   ],
   "source": [
    "points = [[point2d(x=randd(), y=randd()) for _ in range(n_points)]\n",
    "          for _ in range(n_pointdatasets)]\n",
    "\n",
    "print(points)"
   ]
  },
  {
   "attachments": {},
   "cell_type": "markdown",
   "metadata": {},
   "source": [
    "Assign the cut-off-radii"
   ]
  },
  {
   "cell_type": "code",
   "execution_count": 5,
   "metadata": {},
   "outputs": [
    {
     "name": "stdout",
     "output_type": "stream",
     "text": [
      "[0.5, 0.5]\n"
     ]
    }
   ],
   "source": [
    "cut_off_radii = [0.5 for _ in range(len(points))]\n",
    "print(cut_off_radii)"
   ]
  },
  {
   "attachments": {},
   "cell_type": "markdown",
   "metadata": {},
   "source": [
    "Make the reference point of the UPXO data-set"
   ]
  },
  {
   "cell_type": "code",
   "execution_count": 6,
   "metadata": {},
   "outputs": [
    {
     "name": "stdout",
     "output_type": "stream",
     "text": [
      "upxo.p2d(0.0, 0.0)\n"
     ]
    }
   ],
   "source": [
    "ref_point = point2d()\n",
    "print(ref_point)"
   ]
  },
  {
   "attachments": {},
   "cell_type": "markdown",
   "metadata": {},
   "source": [
    "Calculate the neighbour details for each point-data-set neigh_points, npoints, indices, distances"
   ]
  },
  {
   "cell_type": "code",
   "execution_count": 7,
   "metadata": {},
   "outputs": [],
   "source": [
    "neigh_points, npoints, indices, distances = ref_point.find_neigh_points(method='ckdtrees', points=points,\n",
    "                                          point_type='upxo',\n",
    "                                          cutoffshape='circle',\n",
    "                                          cut_off_radii=cut_off_radii,\n",
    "                                          ckdtree_workers=1\n",
    "                                          )"
   ]
  },
  {
   "cell_type": "code",
   "execution_count": 8,
   "metadata": {},
   "outputs": [
    {
     "name": "stdout",
     "output_type": "stream",
     "text": [
      "[[upxo.p2d(0.07104, 0.08713)], []]\n"
     ]
    }
   ],
   "source": [
    "print(neigh_points)"
   ]
  },
  {
   "cell_type": "code",
   "execution_count": 9,
   "metadata": {},
   "outputs": [
    {
     "name": "stdout",
     "output_type": "stream",
     "text": [
      "[1, 0]\n"
     ]
    }
   ],
   "source": [
    "print(npoints)"
   ]
  },
  {
   "cell_type": "code",
   "execution_count": 10,
   "metadata": {},
   "outputs": [
    {
     "name": "stdout",
     "output_type": "stream",
     "text": [
      "[[7], []]\n"
     ]
    }
   ],
   "source": [
    "print(indices)"
   ]
  },
  {
   "cell_type": "code",
   "execution_count": 11,
   "metadata": {},
   "outputs": [
    {
     "name": "stdout",
     "output_type": "stream",
     "text": [
      "[array([0.10046016]), array([], dtype=float64)]\n"
     ]
    }
   ],
   "source": [
    "print(distances)"
   ]
  }
 ],
 "metadata": {
  "kernelspec": {
   "display_name": "Python 3",
   "language": "python",
   "name": "python3"
  },
  "language_info": {
   "codemirror_mode": {
    "name": "ipython",
    "version": 3
   },
   "file_extension": ".py",
   "mimetype": "text/x-python",
   "name": "python",
   "nbconvert_exporter": "python",
   "pygments_lexer": "ipython3",
   "version": "3.9.13"
  },
  "orig_nbformat": 4,
  "vscode": {
   "interpreter": {
    "hash": "d85cf6249eccc1c127338e9c24e2a020fd6f3de5dad6c76de8f13c039fb970e8"
   }
  }
 },
 "nbformat": 4,
 "nbformat_minor": 2
}
