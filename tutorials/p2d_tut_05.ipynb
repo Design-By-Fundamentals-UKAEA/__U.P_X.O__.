{
 "cells": [
  {
   "attachments": {},
   "cell_type": "markdown",
   "metadata": {},
   "source": [
    "In this tutorial, we will create an N number of point sets, with all points \n",
    "bounded by [0.0, 1.0] on x and y. Each point will be a UPXO point2d object.\n",
    "Coordinates will have a random uniform distributi90onl.\n",
    "\n",
    "We will then create a single reference point at (0, 0).\n",
    "\n",
    "For this point, we will then find its neighbours in each of the \n",
    "point-sets within a certain cut-off-radius specific to each point set.\n",
    "\n",
    "We will calcuolate the following:\n",
    "\n",
    "    1. Neighbouring points for eqach point set\n",
    "    2. Number of neighbopuring points for each point set\n",
    "    3. Indices of neighbours from the parent point dataset\n",
    "    4. Distances of the neighbours from the reference point\n",
    "\n",
    "In most cases, user will not want to querry all the above four results, as\n",
    "some can be calculated using others. However, user can replacve the \n",
    "un-necessary output by a dummy underscore. For example, if in the example\n",
    "below, if the npoints if not needed in the find_neigh_points output, then \n",
    "the listy of outputs coule be \"neigh_points, _, indices, distances\"\n",
    "oinstead of \"neigh_points, npoints, indices, distances\".\n",
    "\n",
    "NOTES: For really biGGG data sets (say around 10,000 points), do issue, a \n",
    "number greater than 1 for argument \"ckdtree_workers\"."
   ]
  },
  {
   "cell_type": "code",
   "execution_count": 1,
   "metadata": {},
   "outputs": [],
   "source": [
    "import numpy as np\n",
    "from point2d_04 import point2d"
   ]
  },
  {
   "cell_type": "markdown",
   "metadata": {},
   "source": []
  },
  {
   "cell_type": "code",
   "execution_count": 2,
   "metadata": {},
   "outputs": [],
   "source": [
    "randd = np.random.uniform"
   ]
  },
  {
   "attachments": {},
   "cell_type": "markdown",
   "metadata": {},
   "source": [
    "Assign the Number of point sets"
   ]
  },
  {
   "cell_type": "code",
   "execution_count": 3,
   "metadata": {},
   "outputs": [],
   "source": [
    "n_pointdatasets = 2"
   ]
  },
  {
   "attachments": {},
   "cell_type": "markdown",
   "metadata": {},
   "source": [
    "Assign the Number of points to create"
   ]
  },
  {
   "cell_type": "code",
   "execution_count": 4,
   "metadata": {},
   "outputs": [],
   "source": [
    "n_points = 10"
   ]
  },
  {
   "attachments": {},
   "cell_type": "markdown",
   "metadata": {},
   "source": [
    "Create the point data-sets"
   ]
  },
  {
   "cell_type": "code",
   "execution_count": 5,
   "metadata": {},
   "outputs": [],
   "source": [
    "points = [[point2d(x=randd(), y=randd()) for _ in range(n_points)] for _ in range(n_pointdatasets)]"
   ]
  },
  {
   "cell_type": "markdown",
   "metadata": {},
   "source": []
  },
  {
   "cell_type": "code",
   "execution_count": 6,
   "metadata": {},
   "outputs": [
    {
     "name": "stdout",
     "output_type": "stream",
     "text": [
      "[upxo.p2d(0.66314902, 0.30028611), upxo.p2d(0.5143466, 0.71575131), upxo.p2d(0.55866134, 0.83491293), upxo.p2d(0.3944637, 0.24239159), upxo.p2d(0.61310168, 0.21500713), upxo.p2d(0.73944664, 0.64467879), upxo.p2d(0.27655458, 0.2944775), upxo.p2d(0.36534037, 0.3389777), upxo.p2d(0.27132839, 0.27629692), upxo.p2d(0.00231681, 0.48851265)]\n",
      "----\n",
      "[upxo.p2d(0.62371564, 0.82909861), upxo.p2d(0.15556967, 0.18218679), upxo.p2d(0.28760411, 0.30993504), upxo.p2d(0.72911337, 0.50409506), upxo.p2d(0.39831826, 0.73669771), upxo.p2d(0.18507528, 0.38272676), upxo.p2d(0.9870732, 0.4859432), upxo.p2d(0.29003554, 0.61015537), upxo.p2d(0.55964283, 0.02022788), upxo.p2d(0.9882, 0.87268133)]\n"
     ]
    }
   ],
   "source": [
    "print(points[0])\n",
    "print('----')\n",
    "print(points[1])"
   ]
  },
  {
   "attachments": {},
   "cell_type": "markdown",
   "metadata": {},
   "source": [
    "Assign the cut-off-radii"
   ]
  },
  {
   "cell_type": "code",
   "execution_count": 7,
   "metadata": {},
   "outputs": [],
   "source": [
    "cut_off_radii = [0.5 for _ in range(len(points))]"
   ]
  },
  {
   "attachments": {},
   "cell_type": "markdown",
   "metadata": {},
   "source": [
    "Make the reference point of the UPXO data-set"
   ]
  },
  {
   "cell_type": "code",
   "execution_count": 8,
   "metadata": {},
   "outputs": [],
   "source": [
    "ref_point = point2d(x = 0.0, y = 0.0)"
   ]
  },
  {
   "attachments": {},
   "cell_type": "markdown",
   "metadata": {},
   "source": [
    "Calculate the neighbour details for each point-data-set"
   ]
  },
  {
   "cell_type": "code",
   "execution_count": 9,
   "metadata": {},
   "outputs": [],
   "source": [
    "NP, N, I, D = ref_point.find_neigh_points(method='points', points=points,\n",
    "                                          point_type='upxo',\n",
    "                                          cutoffshape='circle',\n",
    "                                          cut_off_radii=cut_off_radii,\n",
    "                                          ckdtree_workers=1\n",
    "                                          )"
   ]
  },
  {
   "attachments": {},
   "cell_type": "markdown",
   "metadata": {},
   "source": [
    "To accommodate in jupyter notebooks, short variable names \"NP, N, I, D\" are used for \"neigh_points, npoints, indices, distances\". The latter is recommended, as it meets the overall UPXO coding style specification \"descriptive names are better than concise names\""
   ]
  },
  {
   "cell_type": "code",
   "execution_count": 10,
   "metadata": {},
   "outputs": [
    {
     "name": "stdout",
     "output_type": "stream",
     "text": [
      "-----------------------\n",
      "[2, 2, 2]\n",
      "-----------------------\n",
      "[[upxo.p2d(0.3944637, 0.24239159), upxo.p2d(0.27655458, 0.2944775), upxo.p2d(0.36534037, 0.3389777), upxo.p2d(0.27132839, 0.27629692), upxo.p2d(0.00231681, 0.48851265)], [upxo.p2d(0.15556967, 0.18218679), upxo.p2d(0.28760411, 0.30993504), upxo.p2d(0.18507528, 0.38272676)]]\n",
      "-----------------------\n",
      "[5, 3]\n",
      "-----------------------\n",
      "[[3, 6, 7, 8, 9], [1, 2, 5]]\n",
      "-----------------------\n",
      "[[0.46298520122797004, 0.4039794962933322, 0.49837682760951413, 0.3872455098383313, 0.4885181412915803], [0.2395703384260823, 0.42281893886873784, 0.42512660894206084]]\n"
     ]
    }
   ],
   "source": [
    "neigh_points, npoints, indices, distances = NP, N, I, D\n",
    "print('-----------------------')\n",
    "print([len(neigh_points), len(indices), len(distances)])\n",
    "print('-----------------------')\n",
    "print(neigh_points)\n",
    "print('-----------------------')\n",
    "print(npoints)\n",
    "print('-----------------------')\n",
    "print(indices)\n",
    "print('-----------------------')\n",
    "print(distances)"
   ]
  },
  {
   "cell_type": "markdown",
   "metadata": {},
   "source": []
  }
 ],
 "metadata": {
  "kernelspec": {
   "display_name": "Python 3",
   "language": "python",
   "name": "python3"
  },
  "language_info": {
   "codemirror_mode": {
    "name": "ipython",
    "version": 3
   },
   "file_extension": ".py",
   "mimetype": "text/x-python",
   "name": "python",
   "nbconvert_exporter": "python",
   "pygments_lexer": "ipython3",
   "version": "3.9.13"
  },
  "orig_nbformat": 4,
  "vscode": {
   "interpreter": {
    "hash": "d85cf6249eccc1c127338e9c24e2a020fd6f3de5dad6c76de8f13c039fb970e8"
   }
  }
 },
 "nbformat": 4,
 "nbformat_minor": 2
}
