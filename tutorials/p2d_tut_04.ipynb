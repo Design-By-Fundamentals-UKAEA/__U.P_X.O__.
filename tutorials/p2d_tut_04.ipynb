{
 "cells": [
  {
   "cell_type": "code",
   "execution_count": 1,
   "metadata": {},
   "outputs": [],
   "source": [
    "from point2d_04 import point2d"
   ]
  },
  {
   "attachments": {},
   "cell_type": "markdown",
   "metadata": {},
   "source": [
    "To facilitiate faster instance creation and leaner memory, a \"lean\" attribite is provided, defaulting to \"low\". It is the Lean specification of the point object. Could be the following 5 types:\n",
    "\n",
    "    1. ('no', 'lowest', 'verylow')\n",
    "    2. ('low')\n",
    "    3. ('medium', 'intermediate')\n",
    "    4. ('high')\n",
    "    5. ('veryhigh', 'highest', 'leanest')\n",
    "\n",
    "Depending on the lean specification, some attributes may not be activated. This is done to save computational cost in speed and object size. The effect on an attribute is either being considered or not in the object. The effects on each attribiute for each of the specification is detailed below.\n",
    "\n",
    "Refer documentation for a complete description of the \"attribiute\". The attribite is however, demonstrated to some extent in this tutorial."
   ]
  },
  {
   "attachments": {},
   "cell_type": "markdown",
   "metadata": {},
   "source": [
    "A very general definition of a point2d object is shown below."
   ]
  },
  {
   "cell_type": "code",
   "execution_count": 2,
   "metadata": {},
   "outputs": [
    {
     "ename": "TypeError",
     "evalue": "__init__() got an unexpected keyword argument 'phid'",
     "output_type": "error",
     "traceback": [
      "\u001b[1;31m---------------------------------------------------------------------------\u001b[0m",
      "\u001b[1;31mTypeError\u001b[0m                                 Traceback (most recent call last)",
      "\u001b[1;32mc:\\Development\\M2MatMod\\upxo\\p2d_tut_04.ipynb Cell 4\u001b[0m in \u001b[0;36m<cell line: 1>\u001b[1;34m()\u001b[0m\n\u001b[1;32m----> <a href='vscode-notebook-cell:/c%3A/Development/M2MatMod/upxo/p2d_tut_04.ipynb#W3sZmlsZQ%3D%3D?line=0'>1</a>\u001b[0m p1 \u001b[39m=\u001b[39m point2d(x \u001b[39m=\u001b[39;49m \u001b[39m0.0\u001b[39;49m,\n\u001b[0;32m      <a href='vscode-notebook-cell:/c%3A/Development/M2MatMod/upxo/p2d_tut_04.ipynb#W3sZmlsZQ%3D%3D?line=1'>2</a>\u001b[0m              y \u001b[39m=\u001b[39;49m \u001b[39m0.0\u001b[39;49m,\n\u001b[0;32m      <a href='vscode-notebook-cell:/c%3A/Development/M2MatMod/upxo/p2d_tut_04.ipynb#W3sZmlsZQ%3D%3D?line=2'>3</a>\u001b[0m              lean \u001b[39m=\u001b[39;49m \u001b[39m'\u001b[39;49m\u001b[39mlowest\u001b[39;49m\u001b[39m'\u001b[39;49m,\n\u001b[0;32m      <a href='vscode-notebook-cell:/c%3A/Development/M2MatMod/upxo/p2d_tut_04.ipynb#W3sZmlsZQ%3D%3D?line=3'>4</a>\u001b[0m              set_tdist \u001b[39m=\u001b[39;49m \u001b[39mTrue\u001b[39;49;00m, tdist \u001b[39m=\u001b[39;49m \u001b[39m0.0000000000001\u001b[39;49m,\n\u001b[0;32m      <a href='vscode-notebook-cell:/c%3A/Development/M2MatMod/upxo/p2d_tut_04.ipynb#W3sZmlsZQ%3D%3D?line=4'>5</a>\u001b[0m              set_mid \u001b[39m=\u001b[39;49m \u001b[39mFalse\u001b[39;49;00m,\n\u001b[0;32m      <a href='vscode-notebook-cell:/c%3A/Development/M2MatMod/upxo/p2d_tut_04.ipynb#W3sZmlsZQ%3D%3D?line=5'>6</a>\u001b[0m              set_dim \u001b[39m=\u001b[39;49m \u001b[39mFalse\u001b[39;49;00m, dim \u001b[39m=\u001b[39;49m \u001b[39m2\u001b[39;49m,\n\u001b[0;32m      <a href='vscode-notebook-cell:/c%3A/Development/M2MatMod/upxo/p2d_tut_04.ipynb#W3sZmlsZQ%3D%3D?line=6'>7</a>\u001b[0m              set_ptype \u001b[39m=\u001b[39;49m \u001b[39mFalse\u001b[39;49;00m, ptype \u001b[39m=\u001b[39;49m \u001b[39m'\u001b[39;49m\u001b[39mvt2dseed\u001b[39;49m\u001b[39m'\u001b[39;49m,\n\u001b[0;32m      <a href='vscode-notebook-cell:/c%3A/Development/M2MatMod/upxo/p2d_tut_04.ipynb#W3sZmlsZQ%3D%3D?line=7'>8</a>\u001b[0m              set_jn \u001b[39m=\u001b[39;49m \u001b[39mFalse\u001b[39;49;00m, jn \u001b[39m=\u001b[39;49m \u001b[39m3\u001b[39;49m,\n\u001b[0;32m      <a href='vscode-notebook-cell:/c%3A/Development/M2MatMod/upxo/p2d_tut_04.ipynb#W3sZmlsZQ%3D%3D?line=8'>9</a>\u001b[0m              set_loc \u001b[39m=\u001b[39;49m \u001b[39mFalse\u001b[39;49;00m, loc \u001b[39m=\u001b[39;49m \u001b[39m'\u001b[39;49m\u001b[39minterior\u001b[39;49m\u001b[39m'\u001b[39;49m,\n\u001b[0;32m     <a href='vscode-notebook-cell:/c%3A/Development/M2MatMod/upxo/p2d_tut_04.ipynb#W3sZmlsZQ%3D%3D?line=9'>10</a>\u001b[0m              store_original_coord \u001b[39m=\u001b[39;49m \u001b[39mFalse\u001b[39;49;00m,\n\u001b[0;32m     <a href='vscode-notebook-cell:/c%3A/Development/M2MatMod/upxo/p2d_tut_04.ipynb#W3sZmlsZQ%3D%3D?line=10'>11</a>\u001b[0m              set_mesh_lc \u001b[39m=\u001b[39;49m \u001b[39mFalse\u001b[39;49;00m, mesh_lc\u001b[39m=\u001b[39;49m\u001b[39m1.0\u001b[39;49m,\n\u001b[0;32m     <a href='vscode-notebook-cell:/c%3A/Development/M2MatMod/upxo/p2d_tut_04.ipynb#W3sZmlsZQ%3D%3D?line=11'>12</a>\u001b[0m              attach_mulpoints \u001b[39m=\u001b[39;49m \u001b[39mFalse\u001b[39;49;00m, mulpoints\u001b[39m=\u001b[39;49m\u001b[39mNone\u001b[39;49;00m,\n\u001b[0;32m     <a href='vscode-notebook-cell:/c%3A/Development/M2MatMod/upxo/p2d_tut_04.ipynb#W3sZmlsZQ%3D%3D?line=12'>13</a>\u001b[0m              attach_edges \u001b[39m=\u001b[39;49m \u001b[39mFalse\u001b[39;49;00m, edges\u001b[39m=\u001b[39;49m\u001b[39mNone\u001b[39;49;00m,\n\u001b[0;32m     <a href='vscode-notebook-cell:/c%3A/Development/M2MatMod/upxo/p2d_tut_04.ipynb#W3sZmlsZQ%3D%3D?line=13'>14</a>\u001b[0m              attach_muledges \u001b[39m=\u001b[39;49m \u001b[39mFalse\u001b[39;49;00m, muledges\u001b[39m=\u001b[39;49m\u001b[39mNone\u001b[39;49;00m,\n\u001b[0;32m     <a href='vscode-notebook-cell:/c%3A/Development/M2MatMod/upxo/p2d_tut_04.ipynb#W3sZmlsZQ%3D%3D?line=14'>15</a>\u001b[0m              attach_xtals \u001b[39m=\u001b[39;49m \u001b[39mFalse\u001b[39;49;00m, xtals\u001b[39m=\u001b[39;49m\u001b[39mNone\u001b[39;49;00m,\n\u001b[0;32m     <a href='vscode-notebook-cell:/c%3A/Development/M2MatMod/upxo/p2d_tut_04.ipynb#W3sZmlsZQ%3D%3D?line=15'>16</a>\u001b[0m              attach_polyxtals \u001b[39m=\u001b[39;49m \u001b[39mFalse\u001b[39;49;00m, polyxtals\u001b[39m=\u001b[39;49m\u001b[39mNone\u001b[39;49;00m,\n\u001b[0;32m     <a href='vscode-notebook-cell:/c%3A/Development/M2MatMod/upxo/p2d_tut_04.ipynb#W3sZmlsZQ%3D%3D?line=16'>17</a>\u001b[0m              set_phase \u001b[39m=\u001b[39;49m \u001b[39mFalse\u001b[39;49;00m, phid \u001b[39m=\u001b[39;49m \u001b[39m1\u001b[39;49m, phname \u001b[39m=\u001b[39;49m \u001b[39m'\u001b[39;49m\u001b[39mcucrzr\u001b[39;49m\u001b[39m'\u001b[39;49m,\n\u001b[0;32m     <a href='vscode-notebook-cell:/c%3A/Development/M2MatMod/upxo/p2d_tut_04.ipynb#W3sZmlsZQ%3D%3D?line=17'>18</a>\u001b[0m              set_sfv_pol_area \u001b[39m=\u001b[39;49m \u001b[39mTrue\u001b[39;49;00m, sfv_pol_area \u001b[39m=\u001b[39;49m \u001b[39m0.0\u001b[39;49m,\n\u001b[0;32m     <a href='vscode-notebook-cell:/c%3A/Development/M2MatMod/upxo/p2d_tut_04.ipynb#W3sZmlsZQ%3D%3D?line=18'>19</a>\u001b[0m              set_sfv_pol_perimeter \u001b[39m=\u001b[39;49m \u001b[39mTrue\u001b[39;49;00m, sfv_pol_perimeter \u001b[39m=\u001b[39;49m \u001b[39m0.0\u001b[39;49m,\n\u001b[0;32m     <a href='vscode-notebook-cell:/c%3A/Development/M2MatMod/upxo/p2d_tut_04.ipynb#W3sZmlsZQ%3D%3D?line=19'>20</a>\u001b[0m              set_sfv_pol_aspect_ratio \u001b[39m=\u001b[39;49m \u001b[39mTrue\u001b[39;49;00m, sfv_pol_aspect_ratio \u001b[39m=\u001b[39;49m \u001b[39m0.0\u001b[39;49m,\n\u001b[0;32m     <a href='vscode-notebook-cell:/c%3A/Development/M2MatMod/upxo/p2d_tut_04.ipynb#W3sZmlsZQ%3D%3D?line=20'>21</a>\u001b[0m              set_tcname \u001b[39m=\u001b[39;49m \u001b[39mFalse\u001b[39;49;00m, tcname \u001b[39m=\u001b[39;49m \u001b[39m'\u001b[39;49m\u001b[39mB\u001b[39;49m\u001b[39m'\u001b[39;49m,\n\u001b[0;32m     <a href='vscode-notebook-cell:/c%3A/Development/M2MatMod/upxo/p2d_tut_04.ipynb#W3sZmlsZQ%3D%3D?line=21'>22</a>\u001b[0m              set_sfv_ea \u001b[39m=\u001b[39;49m \u001b[39mTrue\u001b[39;49;00m, sfv_repr_ea\u001b[39m=\u001b[39;49m\u001b[39m'\u001b[39;49m\u001b[39mBunge\u001b[39;49m\u001b[39m'\u001b[39;49m, sfv_ea \u001b[39m=\u001b[39;49m [\u001b[39m45\u001b[39;49m, \u001b[39m35\u001b[39;49m, \u001b[39m0\u001b[39;49m],\n\u001b[0;32m     <a href='vscode-notebook-cell:/c%3A/Development/M2MatMod/upxo/p2d_tut_04.ipynb#W3sZmlsZQ%3D%3D?line=22'>23</a>\u001b[0m              set_orientation_object \u001b[39m=\u001b[39;49m \u001b[39mTrue\u001b[39;49;00m, orientation_object \u001b[39m=\u001b[39;49m \u001b[39mNone\u001b[39;49;00m,\n\u001b[0;32m     <a href='vscode-notebook-cell:/c%3A/Development/M2MatMod/upxo/p2d_tut_04.ipynb#W3sZmlsZQ%3D%3D?line=23'>24</a>\u001b[0m              store_vis_prop \u001b[39m=\u001b[39;49m \u001b[39mFalse\u001b[39;49;00m)\n",
      "\u001b[1;31mTypeError\u001b[0m: __init__() got an unexpected keyword argument 'phid'"
     ]
    }
   ],
   "source": [
    "p1 = point2d(x = 0.0,\n",
    "             y = 0.0,\n",
    "             lean = 'lowest',\n",
    "             set_tdist = True, tdist = 0.0000000000001,\n",
    "             set_mid = False,\n",
    "             set_dim = False, dim = 2,\n",
    "             set_ptype = False, ptype = 'vt2dseed',\n",
    "             set_jn = False, jn = 3,\n",
    "             set_loc = False, loc = 'interior',\n",
    "             store_original_coord = False,\n",
    "             set_mesh_lc = False, mesh_lc=1.0,\n",
    "             attach_mulpoints = False, mulpoints=None,\n",
    "             attach_edges = False, edges=None,\n",
    "             attach_muledges = False, muledges=None,\n",
    "             attach_xtals = False, xtals=None,\n",
    "             attach_polyxtals = False, polyxtals=None,\n",
    "             set_phase = False, phid = 1, phname = 'cucrzr',\n",
    "             set_sfv_pol_area = True, sfv_pol_area = 0.0,\n",
    "             set_sfv_pol_perimeter = True, sfv_pol_perimeter = 0.0,\n",
    "             set_sfv_pol_aspect_ratio = True, sfv_pol_aspect_ratio = 0.0,\n",
    "             set_tcname = False, tcname = 'B',\n",
    "             set_sfv_ea = True, sfv_repr_ea='Bunge', sfv_ea = [45, 35, 0],\n",
    "             set_orientation_object = True, orientation_object = None,\n",
    "             store_vis_prop = False)"
   ]
  },
  {
   "attachments": {},
   "cell_type": "markdown",
   "metadata": {},
   "source": [
    "Querry some of its properties using the in-built \"has\" method."
   ]
  },
  {
   "cell_type": "code",
   "execution_count": null,
   "metadata": {},
   "outputs": [
    {
     "name": "stdout",
     "output_type": "stream",
     "text": [
      "[True, True, True, False, False, False, False]\n",
      "[False, False, False, False, False, False, False]\n",
      "[False, True, False, False, False, False, False]\n"
     ]
    }
   ],
   "source": [
    "print([p1.has('x'), p1.has('y'), p1.has('lean'), p1.has('rid'), p1.has('mid'), p1.has('ptype'), p1.has('jn')])\n",
    "\n",
    "print([p1.has('loc'), p1.has('phid'), p1.has('phname'), p1.has('polygonal_area'), p1.has('tcname'), p1.has('earepr'), p1.has('ea')])\n",
    "\n",
    "print([p1.has('oo'), p1.has('tdist'), p1.has('mesh_lc'), p1.has('polygonal_length'), p1.has('ar'), p1.has('partition'), p1.has('vprop')])"
   ]
  },
  {
   "attachments": {},
   "cell_type": "markdown",
   "metadata": {},
   "source": [
    "Let's set some flags True with the same lean option and querry some of its properties using the in-built \"has\" method."
   ]
  },
  {
   "cell_type": "code",
   "execution_count": null,
   "metadata": {},
   "outputs": [
    {
     "name": "stdout",
     "output_type": "stream",
     "text": [
      "[True, True, True, False, True, True, True]\n",
      "[True, True, True, False, True, False, False]\n",
      "[False, True, True, False, False, False, True]\n"
     ]
    }
   ],
   "source": [
    "p1 = point2d(x = 0.0,\n",
    "             y = 0.0,\n",
    "             lean = 'lowest',\n",
    "             set_tdist = True, tdist = 0.0000000000001,\n",
    "             set_mid = True,\n",
    "             set_dim = True, dim = 2,\n",
    "             set_ptype = True, ptype = 'vt2dseed',\n",
    "             set_jn = True, jn = 3,\n",
    "             set_loc = True, loc = 'interior',\n",
    "             store_original_coord = True,\n",
    "             set_mesh_lc = True, mesh_lc=1.0,\n",
    "             attach_mulpoints = False, mulpoints=None,\n",
    "             attach_edges = False, edges=None,\n",
    "             attach_muledges = False, muledges=None,\n",
    "             attach_xtals = False, xtals=None,\n",
    "             attach_polyxtals = False, polyxtals=None,\n",
    "             set_phase = True, phid = 1, phname = 'cucrzr',\n",
    "             set_sfv_pol_area = True, sfv_pol_area = 0.0,\n",
    "             set_sfv_pol_perimeter = True, sfv_pol_perimeter = 0.0,\n",
    "             set_sfv_pol_aspect_ratio = True, sfv_pol_aspect_ratio = 0.0,\n",
    "             set_tcname = True, tcname = 'B',\n",
    "             set_sfv_ea = True, sfv_repr_ea='Bunge', sfv_ea = [45, 35, 0],\n",
    "             set_orientation_object = True, orientation_object = None,\n",
    "             store_vis_prop = True)\n",
    "\n",
    "print([p1.has('x'), p1.has('y'), p1.has('lean'), p1.has('rid'), p1.has('mid'), p1.has('ptype'), p1.has('jn')])\n",
    "\n",
    "print([p1.has('loc'), p1.has('phid'), p1.has('phname'), p1.has('polygonal_area'), p1.has('tcname'), p1.has('earepr'), p1.has('ea')])\n",
    "\n",
    "print([p1.has('oo'), p1.has('tdist'), p1.has('mesh_lc'), p1.has('polygonal_length'), p1.has('ar'), p1.has('partition'), p1.has('vprop')])"
   ]
  },
  {
   "cell_type": "code",
   "execution_count": null,
   "metadata": {},
   "outputs": [
    {
     "name": "stdout",
     "output_type": "stream",
     "text": [
      "[True, True, False, False, False, False, False]\n",
      "[False, False, False, False, False, False, False]\n",
      "[False, False, False, False, False, False, False]\n"
     ]
    }
   ],
   "source": [
    "p1 = point2d(x = 0.0,\n",
    "             y = 0.0,\n",
    "             lean = 'highest',\n",
    "             set_tdist = True, tdist = 0.0000000000001,\n",
    "             set_mid = True,\n",
    "             set_dim = True, dim = 2,\n",
    "             set_ptype = True, ptype = 'vt2dseed',\n",
    "             set_jn = True, jn = 3,\n",
    "             set_loc = True, loc = 'interior',\n",
    "             store_original_coord = True,\n",
    "             set_mesh_lc = True, mesh_lc=1.0,\n",
    "             attach_mulpoints = False, mulpoints=None,\n",
    "             attach_edges = False, edges=None,\n",
    "             attach_muledges = False, muledges=None,\n",
    "             attach_xtals = False, xtals=None,\n",
    "             attach_polyxtals = False, polyxtals=None,\n",
    "             set_phase = True, phid = 1, phname = 'cucrzr',\n",
    "             set_sfv_pol_area = True, sfv_pol_area = 0.0,\n",
    "             set_sfv_pol_perimeter = True, sfv_pol_perimeter = 0.0,\n",
    "             set_sfv_pol_aspect_ratio = True, sfv_pol_aspect_ratio = 0.0,\n",
    "             set_tcname = True, tcname = 'B',\n",
    "             set_sfv_ea = True, sfv_repr_ea='Bunge', sfv_ea = [45, 35, 0],\n",
    "             set_orientation_object = True, orientation_object = None,\n",
    "             store_vis_prop = True)\n",
    "\n",
    "print([p1.has('x'), p1.has('y'), p1.has('lean'), p1.has('rid'), p1.has('mid'), p1.has('ptype'), p1.has('jn')])\n",
    "\n",
    "print([p1.has('loc'), p1.has('phid'), p1.has('phname'), p1.has('polygonal_area'), p1.has('tcname'), p1.has('earepr'), p1.has('ea')])\n",
    "\n",
    "print([p1.has('oo'), p1.has('tdist'), p1.has('mesh_lc'), p1.has('polygonal_length'), p1.has('ar'), p1.has('partition'), p1.has('vprop')])"
   ]
  },
  {
   "attachments": {},
   "cell_type": "markdown",
   "metadata": {},
   "source": [
    "Therefore, setting the lean option to higest, overrides the other True flags."
   ]
  },
  {
   "attachments": {},
   "cell_type": "markdown",
   "metadata": {},
   "source": [
    "**NOTE**: Though, it might seem daunting to write the entire list of arguments, it is often done inside a loop. Though, individual attribuites can be set seperately by individual method calls, using all at object creation can,\n",
    "\n",
    "    1. reduce overall code size,\n",
    "    2. reduce code clutter,\n",
    "    3. increase code readability\n",
    "\n",
    "However, when additional parameters need to be set on an ad-hoc or need-to-need basis, individual attributes can be set using specific built-methods such as **p1.set_tcname(tcname = 'brass')**, **p1.set_jn(jn = 3)**, when there is a need to set texture component name and junction order much after the point object has been created."
   ]
  }
 ],
 "metadata": {
  "kernelspec": {
   "display_name": "Python 3.9.13 64-bit (microsoft store)",
   "language": "python",
   "name": "python3"
  },
  "language_info": {
   "codemirror_mode": {
    "name": "ipython",
    "version": 3
   },
   "file_extension": ".py",
   "mimetype": "text/x-python",
   "name": "python",
   "nbconvert_exporter": "python",
   "pygments_lexer": "ipython3",
   "version": "3.9.13"
  },
  "orig_nbformat": 4,
  "vscode": {
   "interpreter": {
    "hash": "d85cf6249eccc1c127338e9c24e2a020fd6f3de5dad6c76de8f13c039fb970e8"
   }
  }
 },
 "nbformat": 4,
 "nbformat_minor": 2
}
