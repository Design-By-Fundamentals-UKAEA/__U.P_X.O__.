{
 "cells": [
  {
   "attachments": {},
   "cell_type": "markdown",
   "metadata": {},
   "source": [
    "### Further multiplication and division operations"
   ]
  },
  {
   "cell_type": "code",
   "execution_count": 1,
   "metadata": {},
   "outputs": [],
   "source": [
    "from point2d_04 import point2d\n",
    "p1 = point2d(x = 3, y = 4)\n",
    "p2 = point2d(x = 20, y = 30)"
   ]
  },
  {
   "cell_type": "markdown",
   "metadata": {},
   "source": []
  },
  {
   "cell_type": "code",
   "execution_count": 2,
   "metadata": {},
   "outputs": [
    {
     "name": "stdout",
     "output_type": "stream",
     "text": [
      "upxo.p2d(6.0, 8.0)\n"
     ]
    }
   ],
   "source": [
    "p1.__mul__(2, update = True, make_new = False)\n",
    "print(p1)"
   ]
  },
  {
   "cell_type": "markdown",
   "metadata": {},
   "source": []
  },
  {
   "cell_type": "code",
   "execution_count": 3,
   "metadata": {},
   "outputs": [
    {
     "name": "stdout",
     "output_type": "stream",
     "text": [
      "upxo.p2d(12.0, 16.0)\n"
     ]
    }
   ],
   "source": [
    "p1.__mul__(2, update = True, make_new = True)\n",
    "print(p1)"
   ]
  },
  {
   "cell_type": "markdown",
   "metadata": {},
   "source": []
  },
  {
   "cell_type": "code",
   "execution_count": 4,
   "metadata": {},
   "outputs": [
    {
     "name": "stdout",
     "output_type": "stream",
     "text": [
      "upxo.p2d(12.0, 16.0)\n"
     ]
    }
   ],
   "source": [
    "p1.__mul__(2, update = False, make_new = False)\n",
    "print(p1)"
   ]
  },
  {
   "cell_type": "markdown",
   "metadata": {},
   "source": []
  },
  {
   "cell_type": "code",
   "execution_count": 5,
   "metadata": {},
   "outputs": [
    {
     "name": "stdout",
     "output_type": "stream",
     "text": [
      "upxo.p2d(12.0, 16.0)\n"
     ]
    }
   ],
   "source": [
    "p1*3\n",
    "print(p1)"
   ]
  },
  {
   "cell_type": "markdown",
   "metadata": {},
   "source": []
  },
  {
   "cell_type": "code",
   "execution_count": 6,
   "metadata": {},
   "outputs": [
    {
     "name": "stdout",
     "output_type": "stream",
     "text": [
      "upxo.p2d(12.0, 16.0)\n",
      "upxo.p2d(20.0, 30.0)\n"
     ]
    }
   ],
   "source": [
    "p1*p2\n",
    "print(p1)\n",
    "print(p2)"
   ]
  },
  {
   "cell_type": "markdown",
   "metadata": {},
   "source": []
  },
  {
   "cell_type": "code",
   "execution_count": 7,
   "metadata": {},
   "outputs": [
    {
     "name": "stdout",
     "output_type": "stream",
     "text": [
      "upxo.p2d(12.0, 16.0)\n",
      "upxo.p2d(20.0, 30.0)\n"
     ]
    }
   ],
   "source": [
    "p2*(p1*2)\n",
    "print(p1)\n",
    "print(p2)"
   ]
  }
 ],
 "metadata": {
  "kernelspec": {
   "display_name": "Python 3",
   "language": "python",
   "name": "python3"
  },
  "language_info": {
   "codemirror_mode": {
    "name": "ipython",
    "version": 3
   },
   "file_extension": ".py",
   "mimetype": "text/x-python",
   "name": "python",
   "nbconvert_exporter": "python",
   "pygments_lexer": "ipython3",
   "version": "3.9.13"
  },
  "orig_nbformat": 4,
  "vscode": {
   "interpreter": {
    "hash": "d85cf6249eccc1c127338e9c24e2a020fd6f3de5dad6c76de8f13c039fb970e8"
   }
  }
 },
 "nbformat": 4,
 "nbformat_minor": 2
}
