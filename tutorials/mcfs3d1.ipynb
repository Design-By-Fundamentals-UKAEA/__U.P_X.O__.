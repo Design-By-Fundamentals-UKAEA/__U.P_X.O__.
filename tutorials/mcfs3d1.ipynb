{
 "cells": [
  {
   "cell_type": "code",
   "execution_count": 1,
   "metadata": {},
   "outputs": [],
   "source": [
    "import upxo as ux\n",
    "import numpy as np\n",
    "import matplotlib.pyplot as plt"
   ]
  },
  {
   "cell_type": "code",
   "execution_count": 5,
   "metadata": {},
   "outputs": [],
   "source": [
    "from upxo import pxtal"
   ]
  },
  {
   "cell_type": "code",
   "execution_count": 10,
   "metadata": {},
   "outputs": [],
   "source": [
    "from defdap.quat import Quat"
   ]
  },
  {
   "cell_type": "code",
   "execution_count": 7,
   "metadata": {},
   "outputs": [],
   "source": [
    "from upxo.interfaces.user_inputs.mcgsudata import _load_user_input_data_"
   ]
  },
  {
   "cell_type": "code",
   "execution_count": 3,
   "metadata": {},
   "outputs": [
    {
     "ename": "ModuleNotFoundError",
     "evalue": "No module named 'pxtal'",
     "output_type": "error",
     "traceback": [
      "\u001b[1;31m---------------------------------------------------------------------------\u001b[0m",
      "\u001b[1;31mModuleNotFoundError\u001b[0m                       Traceback (most recent call last)",
      "Input \u001b[1;32mIn [3]\u001b[0m, in \u001b[0;36m<cell line: 1>\u001b[1;34m()\u001b[0m\n\u001b[1;32m----> 1\u001b[0m \u001b[38;5;28;01mfrom\u001b[39;00m \u001b[38;5;21;01mpxtal\u001b[39;00m \u001b[38;5;28;01mimport\u001b[39;00m pxtal \u001b[38;5;28;01mas\u001b[39;00m px\n",
      "\u001b[1;31mModuleNotFoundError\u001b[0m: No module named 'pxtal'"
     ]
    }
   ],
   "source": [
    "from pxtal import "
   ]
  },
  {
   "cell_type": "code",
   "execution_count": 12,
   "metadata": {},
   "outputs": [
    {
     "ename": "TypeError",
     "evalue": "'module' object is not callable",
     "output_type": "error",
     "traceback": [
      "\u001b[1;31m---------------------------------------------------------------------------\u001b[0m",
      "\u001b[1;31mTypeError\u001b[0m                                 Traceback (most recent call last)",
      "Input \u001b[1;32mIn [12]\u001b[0m, in \u001b[0;36m<cell line: 1>\u001b[1;34m()\u001b[0m\n\u001b[1;32m----> 1\u001b[0m \u001b[38;5;28;01mfrom\u001b[39;00m \u001b[38;5;21;01mupxo\u001b[39;00m\u001b[38;5;21;01m.\u001b[39;00m\u001b[38;5;21;01mpxtal\u001b[39;00m\u001b[38;5;21;01m.\u001b[39;00m\u001b[38;5;21;01mmcgs\u001b[39;00m \u001b[38;5;28;01mimport\u001b[39;00m monte_carlo_grain_structure \u001b[38;5;28;01mas\u001b[39;00m a\n",
      "File \u001b[1;32mc:\\development\\m2matmod\\upxo_packaged\\upxo_private\\src\\upxo\\pxtal\\mcgs.py:3057\u001b[0m, in \u001b[0;36m<module>\u001b[1;34m\u001b[0m\n\u001b[0;32m   3054\u001b[0m                     \u001b[38;5;28mprint\u001b[39m(\u001b[38;5;124mf\u001b[39m\u001b[38;5;124m'\u001b[39m\u001b[38;5;124mState updated @ mc step \u001b[39m\u001b[38;5;132;01m{\u001b[39;00mm\u001b[38;5;132;01m}\u001b[39;00m\u001b[38;5;124m'\u001b[39m)\n\u001b[0;32m   3055\u001b[0m                 \u001b[38;5;28mprint\u001b[39m(\u001b[38;5;124m'\u001b[39m\u001b[38;5;124m__________________________\u001b[39m\u001b[38;5;124m'\u001b[39m)\n\u001b[1;32m-> 3057\u001b[0m \u001b[38;5;28;01mclass\u001b[39;00m \u001b[38;5;21;01mgrain_structure\u001b[39;00m():\n\u001b[0;32m   3058\u001b[0m     \u001b[38;5;18m__slots__\u001b[39m \u001b[38;5;241m=\u001b[39m (\u001b[38;5;124m'\u001b[39m\u001b[38;5;124mdim\u001b[39m\u001b[38;5;124m'\u001b[39m,  \u001b[38;5;66;03m# Dimensionality of the grain structure\u001b[39;00m\n\u001b[0;32m   3059\u001b[0m                  \u001b[38;5;124m'\u001b[39m\u001b[38;5;124muigrid\u001b[39m\u001b[38;5;124m'\u001b[39m,  \u001b[38;5;66;03m# Copy of grid.uigrid datastructure\u001b[39;00m\n\u001b[0;32m   3060\u001b[0m                  \u001b[38;5;124m'\u001b[39m\u001b[38;5;124mxgr\u001b[39m\u001b[38;5;124m'\u001b[39m,  \u001b[38;5;66;03m# min, incr, max of x-axis\u001b[39;00m\n\u001b[1;32m   (...)\u001b[0m\n\u001b[0;32m   3091\u001b[0m                  \u001b[38;5;124m'\u001b[39m\u001b[38;5;124mstudy\u001b[39m\u001b[38;5;124m'\u001b[39m\n\u001b[0;32m   3092\u001b[0m                  )\n\u001b[0;32m   3093\u001b[0m     \u001b[38;5;124;03m'''\u001b[39;00m\n\u001b[0;32m   3094\u001b[0m \u001b[38;5;124;03m    Explanation of 'n':\u001b[39;00m\n\u001b[0;32m   3095\u001b[0m \u001b[38;5;124;03m        It is the total number of grains across all states\u001b[39;00m\n\u001b[1;32m   (...)\u001b[0m\n\u001b[0;32m   3135\u001b[0m \u001b[38;5;124;03m        * and so on..\u001b[39;00m\n\u001b[0;32m   3136\u001b[0m \u001b[38;5;124;03m    '''\u001b[39;00m\n",
      "File \u001b[1;32mc:\\development\\m2matmod\\upxo_packaged\\upxo_private\\src\\upxo\\pxtal\\mcgs.py:5714\u001b[0m, in \u001b[0;36mgrain_structure\u001b[1;34m()\u001b[0m\n\u001b[0;32m   5711\u001b[0m                 f\u001b[38;5;241m.\u001b[39mwrite(\u001b[38;5;124mf\u001b[39m\u001b[38;5;124m\"\u001b[39m\u001b[38;5;124m1 \u001b[39m\u001b[38;5;132;01m{\u001b[39;00mx\u001b[38;5;132;01m}\u001b[39;00m\u001b[38;5;124m \u001b[39m\u001b[38;5;132;01m{\u001b[39;00my\u001b[38;5;132;01m}\u001b[39;00m\u001b[38;5;124m \u001b[39m\u001b[38;5;132;01m{\u001b[39;00mphi1\u001b[38;5;132;01m}\u001b[39;00m\u001b[38;5;124m \u001b[39m\u001b[38;5;132;01m{\u001b[39;00mpsi\u001b[38;5;132;01m}\u001b[39;00m\u001b[38;5;124m \u001b[39m\u001b[38;5;132;01m{\u001b[39;00mphi2\u001b[38;5;132;01m}\u001b[39;00m\u001b[38;5;130;01m\\n\u001b[39;00m\u001b[38;5;124m\"\u001b[39m)\n\u001b[0;32m   5712\u001b[0m     f\u001b[38;5;241m.\u001b[39mclose()\n\u001b[1;32m-> 5714\u001b[0m \u001b[38;5;129m@sw\u001b[39m\u001b[43m(\u001b[49m\u001b[43m)\u001b[49m\n\u001b[0;32m   5715\u001b[0m \u001b[38;5;28;01mdef\u001b[39;00m \u001b[38;5;21mexport_vtk3d\u001b[39m(\u001b[38;5;28mself\u001b[39m, grid: \u001b[38;5;28mdict\u001b[39m, grid_fields: \u001b[38;5;28mdict\u001b[39m, file_path: \u001b[38;5;28mstr\u001b[39m, file_name: \u001b[38;5;28mstr\u001b[39m, add_suffix: \u001b[38;5;28mbool\u001b[39m \u001b[38;5;241m=\u001b[39m \u001b[38;5;28;01mTrue\u001b[39;00m) \u001b[38;5;241m-\u001b[39m\u001b[38;5;241m>\u001b[39m \u001b[38;5;28;01mNone\u001b[39;00m:\n\u001b[0;32m   5716\u001b[0m         \u001b[38;5;124;03m\"\"\"\u001b[39;00m\n\u001b[0;32m   5717\u001b[0m \u001b[38;5;124;03m        Export data to .vtk format.\u001b[39;00m\n\u001b[0;32m   5718\u001b[0m \n\u001b[1;32m   (...)\u001b[0m\n\u001b[0;32m   5740\u001b[0m \n\u001b[0;32m   5741\u001b[0m \u001b[38;5;124;03m        \"\"\"\u001b[39;00m\n\u001b[0;32m   5742\u001b[0m         \u001b[38;5;28;01mtry\u001b[39;00m:\n",
      "\u001b[1;31mTypeError\u001b[0m: 'module' object is not callable"
     ]
    }
   ],
   "source": [
    "from upxo.pxtal.mcgs import monte_carlo_grain_structure as a"
   ]
  }
 ],
 "metadata": {
  "kernelspec": {
   "display_name": "Python 3",
   "language": "python",
   "name": "python3"
  },
  "language_info": {
   "codemirror_mode": {
    "name": "ipython",
    "version": 3
   },
   "file_extension": ".py",
   "mimetype": "text/x-python",
   "name": "python",
   "nbconvert_exporter": "python",
   "pygments_lexer": "ipython3",
   "version": "3.9.13"
  }
 },
 "nbformat": 4,
 "nbformat_minor": 2
}
