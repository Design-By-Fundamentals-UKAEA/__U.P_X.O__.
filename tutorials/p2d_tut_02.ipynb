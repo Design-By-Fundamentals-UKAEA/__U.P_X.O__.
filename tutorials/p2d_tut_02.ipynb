{
 "cells": [
  {
   "attachments": {},
   "cell_type": "markdown",
   "metadata": {},
   "source": [
    "Lets import point2d and create three point2d instances, p1, p2 and p3"
   ]
  },
  {
   "cell_type": "code",
   "execution_count": 1,
   "metadata": {},
   "outputs": [],
   "source": [
    "from point2d_04 import point2d\n",
    "\n",
    "p1 = point2d(x=1.0, y=2.0)\n",
    "p2 = point2d(x=3.0, y=4.0)\n",
    "p3 = point2d(x=2.5, y=3.2)"
   ]
  },
  {
   "attachments": {},
   "cell_type": "markdown",
   "metadata": {},
   "source": [
    "Set the tolerance distance to use in in-equality comparisons"
   ]
  },
  {
   "cell_type": "code",
   "execution_count": 2,
   "metadata": {},
   "outputs": [
    {
     "name": "stdout",
     "output_type": "stream",
     "text": [
      "0.0\n"
     ]
    }
   ],
   "source": [
    "p1.set_tdist(tdist=0.0)\n",
    "print(p1.tdist)"
   ]
  },
  {
   "attachments": {},
   "cell_type": "markdown",
   "metadata": {},
   "source": [
    "We will change tdist of p1 and define it for p2."
   ]
  },
  {
   "cell_type": "code",
   "execution_count": 3,
   "metadata": {},
   "outputs": [],
   "source": [
    "p1.set_tdist(tdist=5.0)\n",
    "p2.set_tdist(tdist=2.0)"
   ]
  },
  {
   "attachments": {},
   "cell_type": "markdown",
   "metadata": {},
   "source": [
    "Values are contained in \"tdist\" attribute"
   ]
  },
  {
   "cell_type": "code",
   "execution_count": 4,
   "metadata": {},
   "outputs": [
    {
     "name": "stdout",
     "output_type": "stream",
     "text": [
      "[5.0, 2.0]\n"
     ]
    }
   ],
   "source": [
    "print([p1.tdist, p2.tdist])"
   ]
  },
  {
   "attachments": {},
   "cell_type": "markdown",
   "metadata": {},
   "source": [
    "Alternatively, if the tolerance distance of p2 needs to be borrowed by p1, use:"
   ]
  },
  {
   "cell_type": "code",
   "execution_count": 5,
   "metadata": {},
   "outputs": [
    {
     "name": "stdout",
     "output_type": "stream",
     "text": [
      "[5.0, 5.0]\n"
     ]
    }
   ],
   "source": [
    "p2.borrow_tdist(p1)\n",
    "print([p1.tdist, p2.tdist])"
   ]
  },
  {
   "attachments": {},
   "cell_type": "markdown",
   "metadata": {},
   "source": [
    "You can check for equality between points p1, p2 and p3"
   ]
  },
  {
   "cell_type": "code",
   "execution_count": 6,
   "metadata": {},
   "outputs": [
    {
     "data": {
      "text/plain": [
       "True"
      ]
     },
     "execution_count": 6,
     "metadata": {},
     "output_type": "execute_result"
    }
   ],
   "source": [
    "p1 == p2"
   ]
  },
  {
   "attachments": {},
   "cell_type": "markdown",
   "metadata": {},
   "source": [
    "We see that the points are snapped as being the same, evem though the coordinates are clearly different as seen blow:\n"
   ]
  },
  {
   "cell_type": "code",
   "execution_count": 7,
   "metadata": {},
   "outputs": [
    {
     "name": "stdout",
     "output_type": "stream",
     "text": [
      "[upxo.p2d(1.0, 2.0), upxo.p2d(3.0, 4.0)]\n"
     ]
    }
   ],
   "source": [
    "print([p1, p2])"
   ]
  },
  {
   "attachments": {},
   "cell_type": "markdown",
   "metadata": {},
   "source": [
    "Let's calculate the distance between these two point objects"
   ]
  },
  {
   "cell_type": "code",
   "execution_count": 8,
   "metadata": {},
   "outputs": [],
   "source": [
    "import numpy as np\n",
    "d = np.sqrt((p1.x-p2.x)**2 + (p1.y-p2.y)**2)"
   ]
  },
  {
   "attachments": {},
   "cell_type": "markdown",
   "metadata": {},
   "source": [
    "Now, lets check the tolerance distance of these point objects"
   ]
  },
  {
   "cell_type": "code",
   "execution_count": 9,
   "metadata": {},
   "outputs": [
    {
     "name": "stdout",
     "output_type": "stream",
     "text": [
      "[5.0, 5.0]\n"
     ]
    }
   ],
   "source": [
    "print([p1.tdist, p2.tdist])"
   ]
  },
  {
   "attachments": {},
   "cell_type": "markdown",
   "metadata": {},
   "source": [
    "The tolerance distance is both 5.0 and is greater than the above calculated distance between the two point objects calculated.\n",
    "\n",
    "Let's reset the tolerance distance of p2 from 5.0 to 2.0"
   ]
  },
  {
   "cell_type": "code",
   "execution_count": 10,
   "metadata": {},
   "outputs": [
    {
     "name": "stdout",
     "output_type": "stream",
     "text": [
      "[5.0, 2.0]\n"
     ]
    }
   ],
   "source": [
    "p2.set_tdist(tdist = 2.0)\n",
    "print([p1.tdist, p2.tdist])"
   ]
  },
  {
   "attachments": {},
   "cell_type": "markdown",
   "metadata": {},
   "source": [
    "Let's recheck equality of p1 and p2"
   ]
  },
  {
   "cell_type": "code",
   "execution_count": 11,
   "metadata": {},
   "outputs": [
    {
     "name": "stdout",
     "output_type": "stream",
     "text": [
      "True\n"
     ]
    }
   ],
   "source": [
    "print(p1 == p2)"
   ]
  },
  {
   "attachments": {},
   "cell_type": "markdown",
   "metadata": {},
   "source": [
    "However, this should have been a False, as the distance \"d\" is now greater than the tolerance distance of p2.\n",
    "\n",
    "Now, let us check the same equality as below:"
   ]
  },
  {
   "cell_type": "code",
   "execution_count": 12,
   "metadata": {},
   "outputs": [
    {
     "name": "stdout",
     "output_type": "stream",
     "text": [
      "False\n"
     ]
    }
   ],
   "source": [
    "print(p2 == p1)"
   ]
  },
  {
   "attachments": {},
   "cell_type": "markdown",
   "metadata": {},
   "source": [
    "We see that it is now False. This is because, the tdist of the point object to the left of the equality comparison operator is what will be used. Hence, in this case, the tdist being used is that of p2, which is 2.0 and not of p1, which is still 5.0.\n",
    "\n",
    "Let's change the tdist of p1 from 5.0 to 0.0 and recheck equality using p1==p2."
   ]
  },
  {
   "cell_type": "code",
   "execution_count": 13,
   "metadata": {},
   "outputs": [
    {
     "name": "stdout",
     "output_type": "stream",
     "text": [
      "False\n"
     ]
    }
   ],
   "source": [
    "p1.set_tdist(tdist = 0.0)\n",
    "print(p1 == p2)"
   ]
  },
  {
   "attachments": {},
   "cell_type": "markdown",
   "metadata": {},
   "source": [
    "We now see that the equality operator is using the tdist of 0.0, therefore the value of \"d\", being greater than this tdist, results in the tqo points p1 and p2 being considered at spatially different positions. NOTE: use tdist if you need to code for considering  point snapping.\n",
    "\n",
    "Alternative to calculating distance as done using numpy before, we will now use a built-in method to do so."
   ]
  },
  {
   "cell_type": "code",
   "execution_count": 14,
   "metadata": {},
   "outputs": [
    {
     "name": "stdout",
     "output_type": "stream",
     "text": [
      "2.8284271247461903\n"
     ]
    }
   ],
   "source": [
    "d_ = p1.distance(other_object_type='point2d', point_data= p2)\n",
    "print(d_)"
   ]
  },
  {
   "attachments": {},
   "cell_type": "markdown",
   "metadata": {},
   "source": [
    "Alternative to seperately setting the tdist values, they can be set at instance creation as below:"
   ]
  },
  {
   "cell_type": "code",
   "execution_count": 15,
   "metadata": {},
   "outputs": [],
   "source": [
    "p3 = point2d(x=1.0, y=2.0, set_tdist=True, tdist = 0.0000000000001)\n",
    "p4 = point2d(x=2.0, y=2.0, set_tdist=True, tdist = 2.0)"
   ]
  },
  {
   "attachments": {},
   "cell_type": "markdown",
   "metadata": {},
   "source": [
    "Calculate distance between the3se two point objects:"
   ]
  },
  {
   "cell_type": "code",
   "execution_count": 16,
   "metadata": {},
   "outputs": [
    {
     "name": "stdout",
     "output_type": "stream",
     "text": [
      "1.0\n"
     ]
    }
   ],
   "source": [
    "d = p3.distance(point_data=p4)\n",
    "print(d)"
   ]
  },
  {
   "attachments": {},
   "cell_type": "markdown",
   "metadata": {},
   "source": [
    "It is to be noted that the value \"point2d\" for attribute \"other_object_type\" is taken by default. Hence, there was no need to set. If the other point object were to be differemt say a polygon or an edge, then the case would have been different.\n",
    "\n",
    "Let's check equality now."
   ]
  },
  {
   "cell_type": "code",
   "execution_count": 17,
   "metadata": {},
   "outputs": [
    {
     "name": "stdout",
     "output_type": "stream",
     "text": [
      "False\n",
      "False\n"
     ]
    }
   ],
   "source": [
    "print(p3 == p4)\n",
    "print(p4 == p3)"
   ]
  },
  {
   "attachments": {},
   "cell_type": "markdown",
   "metadata": {},
   "source": [
    "As before, \"p4 == p3\" resulted in a \"True\" as \"tdist\" of p4 (object to the left of equality operator) is 2.0, a value greater than the distance between the two points p4 and p3.\n",
    "\n",
    "Let's check for in-equality operation."
   ]
  },
  {
   "cell_type": "code",
   "execution_count": 18,
   "metadata": {},
   "outputs": [
    {
     "name": "stdout",
     "output_type": "stream",
     "text": [
      "True\n",
      "True\n"
     ]
    }
   ],
   "source": [
    "print(p3 != p4)\n",
    "print(p4 != p3)"
   ]
  },
  {
   "attachments": {},
   "cell_type": "markdown",
   "metadata": {},
   "source": [
    "\"p4 != p3\" resulted in a \"False\" as \"tdist\" of p4 (object to the left of equality operator) is 2.0, a value greater than the distance between the two points p4 and p3. As per tdist in p4, the points appear to be closer than the tolerance distance. Hence, they would be same. Hence, \"!=\" operator results in a False."
   ]
  }
 ],
 "metadata": {
  "kernelspec": {
   "display_name": "Python 3.9.13 64-bit (microsoft store)",
   "language": "python",
   "name": "python3"
  },
  "language_info": {
   "codemirror_mode": {
    "name": "ipython",
    "version": 3
   },
   "file_extension": ".py",
   "mimetype": "text/x-python",
   "name": "python",
   "nbconvert_exporter": "python",
   "pygments_lexer": "ipython3",
   "version": "3.9.13"
  },
  "orig_nbformat": 4,
  "vscode": {
   "interpreter": {
    "hash": "d85cf6249eccc1c127338e9c24e2a020fd6f3de5dad6c76de8f13c039fb970e8"
   }
  }
 },
 "nbformat": 4,
 "nbformat_minor": 2
}
