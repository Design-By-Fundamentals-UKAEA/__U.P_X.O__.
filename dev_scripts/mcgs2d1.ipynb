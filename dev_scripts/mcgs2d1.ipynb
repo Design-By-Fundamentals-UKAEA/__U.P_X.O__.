{
 "cells": [
  {
   "cell_type": "code",
   "execution_count": null,
   "metadata": {},
   "outputs": [],
   "source": [
    "import upxo as upxo\n",
    "from upxo.pxtal.mcgs import monte_carlo_grain_structure as mcgs\n",
    "\n",
    "PXGS = mcgs()\n",
    "PXGS.simulate()\n",
    "\n",
    "print(PXGS.gs)\n",
    "# //////////////////////////////////////////////////\n",
    "#               GRAIN DETECTION PHASE\n",
    "\n",
    "\"\"\" Method-1 \"\"\"\n",
    "PXGS.detect_grains()\n",
    "\n",
    "\"\"\" Method-1: detailed \"\"\"\n",
    "PXGS.detect_grains(mcsteps=None,\n",
    "                   kernel_order=2,\n",
    "                   store_state_ng=True,\n",
    "                   library='scikit-image')\n",
    "\n",
    "\"\"\" Method-2 \"\"\"\n",
    "# You would need to manually do stuff here\n",
    "from upxo.pxtalops import detect_grains_from_mcstates as get_grains\n",
    "gs_dict, state_ng = get_grains.mcgs2d(library='scikit-image',\n",
    "                                      gs_dict = PXGS.gs,\n",
    "                                      msteps = PXGS.tslices,\n",
    "                                      kernel_order=2,\n",
    "                                      store_state_ng=True)\n",
    "# //////////////////////////////////////////////////\n",
    "#               GRAIN STRUCTURE VISUALIZATION\n",
    "\"\"\" View the grain streucture \"\"\"\n",
    "# Simple\n",
    "#PXGS.gs[10].plot()\n",
    "\n",
    "\n",
    "\n",
    "PXGS.gs[10].char_morph_2d()\n"
   ]
  }
 ],
 "metadata": {
  "language_info": {
   "name": "python"
  }
 },
 "nbformat": 4,
 "nbformat_minor": 2
}
