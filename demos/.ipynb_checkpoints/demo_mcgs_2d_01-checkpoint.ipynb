{
 "cells": [
  {
   "cell_type": "markdown",
   "id": "473c89de-8768-4ac9-8679-73bc513d675f",
   "metadata": {
    "editable": true,
    "slideshow": {
     "slide_type": ""
    },
    "tags": []
   },
   "source": [
    "# 1. Import the necessary modules"
   ]
  },
  {
   "cell_type": "code",
   "execution_count": 2,
   "id": "8c9b4d18-23bc-496c-90b3-38f889e55696",
   "metadata": {
    "editable": true,
    "slideshow": {
     "slide_type": ""
    },
    "tags": []
   },
   "outputs": [],
   "source": [
    "import matplotlib.pyplot as plt\n",
    "from upxo.geoEntities.mulpoint2d import mulpoint2d\n",
    "from upxo.initialize import gsets\n",
    "from upxo.for_demos.demoset1 import DEMO_MCGS_2D"
   ]
  },
  {
   "cell_type": "markdown",
   "id": "2f8fd7ca-3303-42bc-a162-2ea8c5ee391b",
   "metadata": {},
   "source": [
    "# 2. Initiate the demo"
   ]
  },
  {
   "cell_type": "code",
   "execution_count": 3,
   "id": "5ce1695f-17d0-4f3d-8313-e34ac52b482f",
   "metadata": {
    "editable": true,
    "slideshow": {
     "slide_type": ""
    },
    "tags": []
   },
   "outputs": [],
   "source": [
    "demo = DEMO_MCGS_2D()"
   ]
  },
  {
   "cell_type": "markdown",
   "id": "aa26b563-72ab-4e0a-a0be-ee84a15d0ff7",
   "metadata": {},
   "source": [
    "# 3. Generate the grain structure"
   ]
  },
  {
   "cell_type": "code",
   "execution_count": null,
   "id": "32956fec-8595-4836-bbb4-eb0d6d50ddf4",
   "metadata": {
    "editable": true,
    "slideshow": {
     "slide_type": ""
    },
    "tags": []
   },
   "outputs": [],
   "source": [
    "demo.basic_mcgs2d()"
   ]
  },
  {
   "cell_type": "markdown",
   "id": "60fad673-7328-455a-bab7-e343518a0523",
   "metadata": {},
   "source": [
    "# 4. View avaiable temporal slicesa"
   ]
  },
  {
   "cell_type": "code",
   "execution_count": null,
   "id": "6a18d5cd-f947-4825-a009-a9564daffc8d",
   "metadata": {
    "editable": true,
    "slideshow": {
     "slide_type": ""
    },
    "tags": []
   },
   "outputs": [],
   "source": [
    "demo.see_available_gs()"
   ]
  },
  {
   "cell_type": "markdown",
   "id": "5f127a52-e613-4d07-9772-5a2ac2d075c3",
   "metadata": {},
   "source": [
    "# 5. Set the tslice of interest"
   ]
  },
  {
   "cell_type": "code",
   "execution_count": null,
   "id": "dda238d2-6c89-47a4-8987-2fb9b5e00ebf",
   "metadata": {},
   "outputs": [],
   "source": [
    "demo.set_toi(6)"
   ]
  },
  {
   "cell_type": "markdown",
   "id": "1419bc48-edb3-47b1-aefb-cb9615b078dc",
   "metadata": {
    "editable": true,
    "slideshow": {
     "slide_type": ""
    },
    "tags": []
   },
   "source": [
    "# 6. Quickly view the grain structure"
   ]
  },
  {
   "cell_type": "code",
   "execution_count": null,
   "id": "11e2b585-fc25-47f5-ba14-05e41841feae",
   "metadata": {},
   "outputs": [],
   "source": [
    "demo.plot_gs()"
   ]
  },
  {
   "cell_type": "markdown",
   "id": "4e4e9a69-f333-4e46-810b-858c54ce19e0",
   "metadata": {
    "editable": true,
    "slideshow": {
     "slide_type": ""
    },
    "tags": []
   },
   "source": [
    "# 7. Plot largest grain"
   ]
  },
  {
   "cell_type": "code",
   "execution_count": null,
   "id": "300facf6-2767-4e70-a26e-c3852c1a5995",
   "metadata": {
    "editable": true,
    "slideshow": {
     "slide_type": ""
    },
    "tags": []
   },
   "outputs": [],
   "source": [
    "demo.plot_largest_grain()"
   ]
  },
  {
   "cell_type": "markdown",
   "id": "f4f8ad65-89d2-47fa-9b63-00bd277c72be",
   "metadata": {},
   "source": [
    "# 8. PLot a given list of grains"
   ]
  },
  {
   "cell_type": "code",
   "execution_count": null,
   "id": "731e6e0c-4c7e-4cf7-a4bb-c312b847374b",
   "metadata": {
    "editable": true,
    "slideshow": {
     "slide_type": ""
    },
    "tags": []
   },
   "outputs": [],
   "source": [
    "demo.plot_grains([1, 2, 4, 6, 8])"
   ]
  },
  {
   "cell_type": "markdown",
   "id": "c47b0d7e-fd75-4096-af1a-41cc4189d486",
   "metadata": {},
   "source": [
    "# 9. PLot neighbours of a given grain"
   ]
  },
  {
   "cell_type": "code",
   "execution_count": null,
   "id": "9081b9bb-95a0-44b9-8006-0295eec6a5d0",
   "metadata": {
    "editable": true,
    "slideshow": {
     "slide_type": ""
    },
    "tags": []
   },
   "outputs": [],
   "source": [
    "gid = 2\n",
    "demo.plot_neigh_grains_2d(gid)"
   ]
  },
  {
   "cell_type": "markdown",
   "id": "57537f54-ab7e-46c8-a50d-41d71f5bc41b",
   "metadata": {},
   "source": [
    "# 10. Extract a temporal slice"
   ]
  },
  {
   "cell_type": "code",
   "execution_count": null,
   "id": "0c128470-799c-498a-9e83-852e9d32c1ab",
   "metadata": {},
   "outputs": [],
   "source": [
    "mcslice = mc.gs[6]"
   ]
  },
  {
   "cell_type": "markdown",
   "id": "60c7c9b3-e910-43f4-a9e0-6cc13fbfdef8",
   "metadata": {
    "editable": true,
    "slideshow": {
     "slide_type": ""
    },
    "tags": []
   },
   "source": [
    "# 11. List all grains\n",
    "Data structure: {  gid: {'s': n,   'grain': UPXO-Grain-Object}  }, where 'gid' is Grain ID, 's': n represents Monte-Carlo state value."
   ]
  },
  {
   "cell_type": "code",
   "execution_count": null,
   "id": "6e74ab41-7b6d-47f6-abda-a4b68c892c64",
   "metadata": {
    "editable": true,
    "slideshow": {
     "slide_type": ""
    },
    "tags": []
   },
   "outputs": [],
   "source": [
    "mcslice.g"
   ]
  },
  {
   "cell_type": "markdown",
   "id": "3adc9f49-940e-430b-81e7-8409cf81cdee",
   "metadata": {
    "editable": true,
    "slideshow": {
     "slide_type": ""
    },
    "tags": []
   },
   "source": [
    "# 12. Plot largest grain (from grain)"
   ]
  },
  {
   "cell_type": "code",
   "execution_count": null,
   "id": "16dc0f89-cffe-415a-a0bd-1f0cb4f81c7b",
   "metadata": {},
   "outputs": [],
   "source": [
    "# For simplicity, Lets plot only the largest grain\n",
    "areas = demo.get_grain_areas()\n",
    "gid = areas.idxmax()\n",
    "mcslice.g[gid+1]['grain'].plot()\n",
    "mcslice.g[gid+1]['grain'].plotgb()\n",
    "mcslice.g[gid+1]['grain'].plotgbseg()"
   ]
  },
  {
   "cell_type": "markdown",
   "id": "8d48d45a-0742-4461-85b2-e4643e469753",
   "metadata": {},
   "source": [
    "# 13. Generate an equivalent VTGS"
   ]
  },
  {
   "cell_type": "code",
   "execution_count": null,
   "id": "34a16fd8-c049-4ede-9342-b9cb53427386",
   "metadata": {
    "editable": true,
    "slideshow": {
     "slide_type": ""
    },
    "tags": []
   },
   "outputs": [],
   "source": [
    "demo.mcgs2d_to_vtgs2d()"
   ]
  },
  {
   "cell_type": "markdown",
   "id": "0bef4cf8-e22c-4dbf-b320-f95df42232af",
   "metadata": {},
   "source": [
    "# 14. Write CTF file output"
   ]
  },
  {
   "cell_type": "code",
   "execution_count": null,
   "id": "59b9bcc6-e727-47f3-a4fb-fffdc53dc6b2",
   "metadata": {
    "editable": true,
    "slideshow": {
     "slide_type": ""
    },
    "tags": []
   },
   "outputs": [],
   "source": [
    "mcslice.ebsd_write_ctf(folder='upxo_ctf', file='upxo_mcslice.ctf')"
   ]
  },
  {
   "cell_type": "markdown",
   "id": "dc7d2e93-1675-4337-83f1-66fb67b93171",
   "metadata": {},
   "source": [
    "# 15. Write Abaqus input file"
   ]
  },
  {
   "cell_type": "code",
   "execution_count": null,
   "id": "54bf4b01-0a8a-4fe8-9631-ba0e0cdad3c8",
   "metadata": {
    "editable": true,
    "slideshow": {
     "slide_type": ""
    },
    "tags": []
   },
   "outputs": [],
   "source": [
    "mcslice.femesh"
   ]
  }
 ],
 "metadata": {
  "kernelspec": {
   "display_name": "Python 3 (ipykernel)",
   "language": "python",
   "name": "python3"
  },
  "language_info": {
   "codemirror_mode": {
    "name": "ipython",
    "version": 3
   },
   "file_extension": ".py",
   "mimetype": "text/x-python",
   "name": "python",
   "nbconvert_exporter": "python",
   "pygments_lexer": "ipython3",
   "version": "3.9.13"
  }
 },
 "nbformat": 4,
 "nbformat_minor": 5
}
